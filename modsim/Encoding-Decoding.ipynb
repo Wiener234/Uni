{
 "cells": [
  {
   "attachments": {},
   "cell_type": "markdown",
   "metadata": {},
   "source": [
    "# Encoding and Decoding\n",
    "---"
   ]
  },
  {
   "attachments": {},
   "cell_type": "markdown",
   "metadata": {},
   "source": [
    "Ideen\n",
    "---\n",
    "- [ ] Begin with simple Encryption Rot13, Ceaser\n",
    "- [ ] Enigma\n",
    "    - [ ] construction\n",
    "    - [ ] complexity (Luftwaffe, Kriegsmarine, Wehrmacht)\n",
    "- [ ] Decription"
   ]
  },
  {
   "attachments": {},
   "cell_type": "markdown",
   "metadata": {},
   "source": [
    "Project\n",
    "---\n",
    "\n",
    "- [ ] enigma in python\n",
    "- [ ] adding Stecker to Steckbrett show complexity\n",
    "- [ ] show changing complexity by adding moddifications done during the war"
   ]
  }
 ],
 "metadata": {
  "kernelspec": {
   "display_name": "Python 3",
   "language": "python",
   "name": "python3"
  },
  "language_info": {
   "codemirror_mode": {
    "name": "ipython",
    "version": 3
   },
   "file_extension": ".py",
   "mimetype": "text/x-python",
   "name": "python",
   "nbconvert_exporter": "python",
   "pygments_lexer": "ipython3",
   "version": "3.11.3"
  },
  "orig_nbformat": 4
 },
 "nbformat": 4,
 "nbformat_minor": 2
}
