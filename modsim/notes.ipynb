{
 "cells": [
  {
   "cell_type": "code",
   "execution_count": null,
   "metadata": {},
   "outputs": [],
   "source": []
  },
  {
   "attachments": {},
   "cell_type": "markdown",
   "metadata": {},
   "source": [
    "# Maze generation\n",
    "---\n",
    "\n",
    "Useable algorithms to generate maze. \n",
    "- Kruskal's\n",
    "- Prim's\n",
    "- Recursive Backtracking\n",
    "- Aldouse-Broder\n",
    "- Glowing Tree\n",
    "- Hunt-and-Kill\n",
    "- Wilson's\n",
    "- Eller's\n",
    "\n",
    "\n",
    "Sources:\n",
    "---\n",
    "https://stackoverflow.com/questions/38502/whats-a-good-algorithm-to-generate-a-maze"
   ]
  },
  {
   "attachments": {},
   "cell_type": "markdown",
   "metadata": {},
   "source": [
    "## Kruskel's maze gen\n",
    "\n"
   ]
  }
 ],
 "metadata": {
  "language_info": {
   "name": "python"
  },
  "orig_nbformat": 4
 },
 "nbformat": 4,
 "nbformat_minor": 2
}
