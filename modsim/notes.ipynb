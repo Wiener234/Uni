{
 "cells": [
  {
   "cell_type": "code",
   "execution_count": null,
   "metadata": {},
   "outputs": [],
   "source": []
  },
  {
   "attachments": {},
   "cell_type": "markdown",
   "metadata": {},
   "source": [
    "# Maze generation\n",
    "---\n",
    "\n",
    "Useable algorithms to generate maze. \n",
    "- Kruskal's\n",
    "- Prim's\n",
    "- Recursive Backtracking\n",
    "- Aldouse-Broder\n",
    "- Glowing Tree\n",
    "- Hunt-and-Kill\n",
    "- Wilson's\n",
    "- Eller's\n",
    "\n",
    "\n",
    "Sources:\n",
    "---\n",
    "https://stackoverflow.com/questions/38502/whats-a-good-algorithm-to-generate-a-maze"
   ]
  },
  {
   "attachments": {},
   "cell_type": "markdown",
   "metadata": {},
   "source": [
    "## Kruskel's maze gen\n",
    "\n"
   ]
  },
  {
   "attachments": {},
   "cell_type": "markdown",
   "metadata": {},
   "source": [
    "First a grid will be generated in the size our maze should be.\n",
    "\n",
    "The initial maze size gets muliplied by two and added one on top to make sure the gird size is odd.\n",
    "Following that the grid is filled with ones to indikate walls."
   ]
  },
  {
   "cell_type": "code",
   "execution_count": 2,
   "metadata": {},
   "outputs": [
    {
     "name": "stdout",
     "output_type": "stream",
     "text": [
      "[[1 1 1 1 1 1 1 1 1 1 1 1 1]\n",
      " [1 1 1 1 1 1 1 1 1 1 1 1 1]\n",
      " [1 1 1 1 1 1 1 1 1 1 1 1 1]\n",
      " [1 1 1 1 1 1 1 1 1 1 1 1 1]\n",
      " [1 1 1 1 1 1 1 1 1 1 1 1 1]\n",
      " [1 1 1 1 1 1 1 1 1 1 1 1 1]\n",
      " [1 1 1 1 1 1 1 1 1 1 1 1 1]\n",
      " [1 1 1 1 1 1 1 1 1 1 1 1 1]\n",
      " [1 1 1 1 1 1 1 1 1 1 1 1 1]\n",
      " [1 1 1 1 1 1 1 1 1 1 1 1 1]\n",
      " [1 1 1 1 1 1 1 1 1 1 1 1 1]\n",
      " [1 1 1 1 1 1 1 1 1 1 1 1 1]\n",
      " [1 1 1 1 1 1 1 1 1 1 1 1 1]]\n"
     ]
    }
   ],
   "source": [
    "import numpy as np\n",
    "from numpy.random import shuffle\n",
    "\n",
    "h = 6\n",
    "w = 6\n",
    "H = 2 * h + 1\n",
    "W = 2 * w + 1\n",
    "\n",
    "\n",
    "grid = np.empty((H, W), dtype=np.int8)\n",
    "grid.fill(1)\n",
    "print(grid)"
   ]
  },
  {
   "attachments": {},
   "cell_type": "markdown",
   "metadata": {},
   "source": [
    "After the grid is filled we create a forest of trees, that are single edges.\n",
    "In the grid these trees get marked as zeros to indikate the beginnings of paths."
   ]
  },
  {
   "cell_type": "code",
   "execution_count": 16,
   "metadata": {},
   "outputs": [
    {
     "name": "stdout",
     "output_type": "stream",
     "text": [
      "[[(2, 2)], [(2, 4)], [(2, 6)], [(2, 8)], [(2, 10)], [(2, 12)], [(4, 2)], [(4, 4)], [(4, 6)], [(4, 8)], [(4, 10)], [(4, 12)], [(6, 2)], [(6, 4)], [(6, 6)], [(6, 8)], [(6, 10)], [(6, 12)], [(8, 2)], [(8, 4)], [(8, 6)], [(8, 8)], [(8, 10)], [(8, 12)], [(10, 2)], [(10, 4)], [(10, 6)], [(10, 8)], [(10, 10)], [(10, 12)], [(12, 2)], [(12, 4)], [(12, 6)], [(12, 8)], [(12, 10)], [(12, 12)]]\n",
      "[(0, [(2, 2)]), (1, [(2, 4)]), (2, [(2, 6)]), (3, [(2, 8)]), (4, [(2, 10)]), (5, [(2, 12)]), (6, [(4, 2)]), (7, [(4, 4)]), (8, [(4, 6)]), (9, [(4, 8)]), (10, [(4, 10)]), (11, [(4, 12)]), (12, [(6, 2)]), (13, [(6, 4)]), (14, [(6, 6)]), (15, [(6, 8)]), (16, [(6, 10)]), (17, [(6, 12)]), (18, [(8, 2)]), (19, [(8, 4)]), (20, [(8, 6)]), (21, [(8, 8)]), (22, [(8, 10)]), (23, [(8, 12)]), (24, [(10, 2)]), (25, [(10, 4)]), (26, [(10, 6)]), (27, [(10, 8)]), (28, [(10, 10)]), (29, [(10, 12)]), (30, [(12, 2)]), (31, [(12, 4)]), (32, [(12, 6)]), (33, [(12, 8)]), (34, [(12, 10)]), (35, [(12, 12)])]\n",
      "[[1 1 1 1 1 1 1 1 1 1 1 1 1 1 1]\n",
      " [1 1 1 1 1 1 1 1 1 1 1 1 1 1 1]\n",
      " [1 1 0 1 0 1 0 1 0 1 0 1 0 1 1]\n",
      " [1 1 1 1 1 1 1 1 1 1 1 1 1 1 1]\n",
      " [1 1 0 1 0 1 0 1 0 1 0 1 0 1 1]\n",
      " [1 1 1 1 1 1 1 1 1 1 1 1 1 1 1]\n",
      " [1 1 0 1 0 1 0 1 0 1 0 1 0 1 1]\n",
      " [1 1 1 1 1 1 1 1 1 1 1 1 1 1 1]\n",
      " [1 1 0 1 0 1 0 1 0 1 0 1 0 1 1]\n",
      " [1 1 1 1 1 1 1 1 1 1 1 1 1 1 1]\n",
      " [1 1 0 1 0 1 0 1 0 1 0 1 0 1 1]\n",
      " [1 1 1 1 1 1 1 1 1 1 1 1 1 1 1]\n",
      " [1 1 0 1 0 1 0 1 0 1 0 1 0 1 1]\n",
      " [1 1 1 1 1 1 1 1 1 1 1 1 1 1 1]\n",
      " [1 1 1 1 1 1 1 1 1 1 1 1 1 1 1]]\n"
     ]
    }
   ],
   "source": [
    "import numpy as np\n",
    "from numpy.random import shuffle\n",
    "\n",
    "h = 6\n",
    "w = 6\n",
    "H = 2 * h + 3\n",
    "W = 2 * w + 3\n",
    "\n",
    "\n",
    "grid = np.empty((H, W), dtype=np.int8)\n",
    "grid.fill(1)\n",
    "\n",
    "forest = []\n",
    "for row in range(2, H - 2, 2):\n",
    "    for col in range(2, W - 2, 2):\n",
    "        forest.append([(row,col)])\n",
    "        grid[row][col] = 0\n",
    "print(forest)\n",
    "print(list(enumerate(forest)))\n",
    "print(grid)"
   ]
  },
  {
   "attachments": {},
   "cell_type": "markdown",
   "metadata": {},
   "source": [
    "Now a new set of edges will be created. These will be used to add to the trees created in the last step. In the end the edges get shuffeld to randomize the order in which they get picked later on. *Only edges between two trees to the left, right, top and bottom get created no edges are created diagonaly between two trees."
   ]
  },
  {
   "cell_type": "code",
   "execution_count": 11,
   "metadata": {},
   "outputs": [
    {
     "name": "stdout",
     "output_type": "stream",
     "text": [
      "[(2, 3), (2, 5), (2, 7), (2, 9), (2, 11), (4, 3), (4, 5), (4, 7), (4, 9), (4, 11), (6, 3), (6, 5), (6, 7), (6, 9), (6, 11), (8, 3), (8, 5), (8, 7), (8, 9), (8, 11), (10, 3), (10, 5), (10, 7), (10, 9), (10, 11), (12, 3), (12, 5), (12, 7), (12, 9), (12, 11), (3, 2), (3, 4), (3, 6), (3, 8), (3, 10), (3, 12), (5, 2), (5, 4), (5, 6), (5, 8), (5, 10), (5, 12), (7, 2), (7, 4), (7, 6), (7, 8), (7, 10), (7, 12), (9, 2), (9, 4), (9, 6), (9, 8), (9, 10), (9, 12), (11, 2), (11, 4), (11, 6), (11, 8), (11, 10), (11, 12)]\n",
      "60\n",
      "36\n"
     ]
    }
   ],
   "source": [
    "import numpy as np\n",
    "from numpy.random import shuffle\n",
    "\n",
    "h = 6\n",
    "w = 6\n",
    "H = 2 * h + 3\n",
    "W = 2 * w + 3\n",
    "\n",
    "\n",
    "grid = np.empty((H, W), dtype=np.int8)\n",
    "grid.fill(1)\n",
    "\n",
    "forest = []\n",
    "for row in range(2, H - 2, 2):\n",
    "    for col in range(2, W - 2, 2):\n",
    "        forest.append([(row,col)])\n",
    "        grid[row][col] = 0\n",
    "\n",
    "edges = []\n",
    "for row in range(2, H - 2, 2):\n",
    "    for col in range(3, W - 2, 2):\n",
    "        edges.append((row,col))\n",
    "for row in range(3, H - 2, 2):\n",
    "    for col in range(2, W - 2, 2):\n",
    "        edges.append((row,col))\n",
    "\n",
    "print(edges)\n",
    "print(len(edges))\n",
    "print(len(forest))\n",
    "\n",
    "shuffle(edges)"
   ]
  },
  {
   "cell_type": "code",
   "execution_count": 10,
   "metadata": {},
   "outputs": [
    {
     "name": "stdout",
     "output_type": "stream",
     "text": [
      "[(1, 2), (1, 4), (1, 6), (1, 8), (1, 10), (3, 2), (3, 4), (3, 6), (3, 8), (3, 10), (5, 2), (5, 4), (5, 6), (5, 8), (5, 10), (7, 2), (7, 4), (7, 6), (7, 8), (7, 10), (9, 2), (9, 4), (9, 6), (9, 8), (9, 10), (11, 2), (11, 4), (11, 6), (11, 8), (11, 10), (2, 1), (2, 3), (2, 5), (2, 7), (2, 9), (2, 11), (4, 1), (4, 3), (4, 5), (4, 7), (4, 9), (4, 11), (6, 1), (6, 3), (6, 5), (6, 7), (6, 9), (6, 11), (8, 1), (8, 3), (8, 5), (8, 7), (8, 9), (8, 11), (10, 1), (10, 3), (10, 5), (10, 7), (10, 9), (10, 11)]\n",
      "60\n",
      "36\n"
     ]
    }
   ],
   "source": [
    "import numpy as np\n",
    "from numpy.random import shuffle\n",
    "\n",
    "h = 6\n",
    "w = 6\n",
    "H = 2 * h + 1\n",
    "W = 2 * w + 1\n",
    "\n",
    "\n",
    "grid = np.empty((H, W), dtype=np.int8)\n",
    "grid.fill(1)\n",
    "\n",
    "forest = []\n",
    "for row in range(1, H - 1, 2):\n",
    "    for col in range(1, W - 1, 2):\n",
    "        forest.append([(row,col)])\n",
    "        grid[row][col] = 0\n",
    "\n",
    "edges = []\n",
    "for row in range(1, H - 1, 2):\n",
    "    for col in range(2, W - 1, 2):\n",
    "        edges.append((row,col))\n",
    "for row in range(2, H - 1, 2):\n",
    "    for col in range(1, W - 1, 2):\n",
    "        edges.append((row,col))\n",
    "\n",
    "print(edges)\n",
    "print(len(edges))\n",
    "print(len(forest))\n",
    "\n",
    "shuffle(edges)"
   ]
  },
  {
   "attachments": {},
   "cell_type": "markdown",
   "metadata": {},
   "source": [
    "gets location of tree next to edge in forest with enumerate and removes the tree from forest and adds a new tree to forest that is a combination from the two found trees before."
   ]
  },
  {
   "cell_type": "code",
   "execution_count": 15,
   "metadata": {},
   "outputs": [
    {
     "name": "stdout",
     "output_type": "stream",
     "text": [
      "[(2, 3), (2, 5), (2, 7), (2, 9), (2, 11), (4, 3), (4, 5), (4, 7), (4, 9), (4, 11), (6, 3), (6, 5), (6, 7), (6, 9), (6, 11), (8, 3), (8, 5), (8, 7), (8, 9), (8, 11), (10, 3), (10, 5), (10, 7), (10, 9), (10, 11), (12, 3), (12, 5), (12, 7), (12, 9), (12, 11), (3, 2), (3, 4), (3, 6), (3, 8), (3, 10), (3, 12), (5, 2), (5, 4), (5, 6), (5, 8), (5, 10), (5, 12), (7, 2), (7, 4), (7, 6), (7, 8), (7, 10), (7, 12), (9, 2), (9, 4), (9, 6), (9, 8), (9, 10), (9, 12), (11, 2), (11, 4), (11, 6), (11, 8), (11, 10), (11, 12)]\n",
      "-1\n",
      "0\n",
      "0\n",
      "0\n",
      "-1\n",
      "-1\n",
      "-1\n",
      "0\n",
      "-1\n",
      "-1\n",
      "0\n",
      "-1\n",
      "0\n",
      "0\n",
      "-1\n",
      "-1\n",
      "0\n",
      "0\n",
      "0\n",
      "-1\n",
      "-1\n",
      "0\n",
      "0\n",
      "0\n",
      "-1\n",
      "0\n",
      "-1\n",
      "-1\n",
      "-1\n",
      "-1\n",
      "-1\n",
      "0\n",
      "0\n",
      "-1\n",
      "0\n",
      "0\n",
      "0\n",
      "-1\n",
      "-1\n",
      "0\n",
      "-1\n",
      "0\n",
      "0\n",
      "0\n",
      "0\n",
      "0\n",
      "-1\n",
      "-1\n",
      "-1\n",
      "-1\n",
      "0\n",
      "0\n",
      "-1\n",
      "0\n",
      "-1\n",
      "0\n",
      "-1\n",
      "-1\n",
      "-1\n",
      "0\n"
     ]
    },
    {
     "ename": "IndexError",
     "evalue": "list index out of range",
     "output_type": "error",
     "traceback": [
      "\u001b[0;31m---------------------------------------------------------------------------\u001b[0m",
      "\u001b[0;31mIndexError\u001b[0m                                Traceback (most recent call last)",
      "Cell \u001b[0;32mIn[15], line 64\u001b[0m\n\u001b[1;32m     61\u001b[0m shuffle(edges)\n\u001b[1;32m     63\u001b[0m \u001b[39mwhile\u001b[39;00m \u001b[39mlen\u001b[39m(forest) \u001b[39m>\u001b[39m \u001b[39m1\u001b[39m:\n\u001b[0;32m---> 64\u001b[0m     ce_row, ce_col \u001b[39m=\u001b[39m edges[\u001b[39m0\u001b[39;49m]\n\u001b[1;32m     65\u001b[0m     edges \u001b[39m=\u001b[39m edges[\u001b[39m1\u001b[39m:]\n\u001b[1;32m     67\u001b[0m     tree1 \u001b[39m=\u001b[39m \u001b[39m-\u001b[39m\u001b[39m1\u001b[39m\n",
      "\u001b[0;31mIndexError\u001b[0m: list index out of range"
     ]
    }
   ],
   "source": [
    "# import numpy as np\n",
    "# from numpy.random import shuffle\n",
    "\n",
    "# h = 6\n",
    "# w = 6\n",
    "# H = 2 * h + 1\n",
    "# W = 2 * w + 1\n",
    "\n",
    "\n",
    "# grid = np.empty((H, W), dtype=np.int8)\n",
    "# grid.fill(1)\n",
    "\n",
    "# forest = []\n",
    "# for row in range(1, H - 1, 2):\n",
    "#     for col in range(1, W - 1, 2):\n",
    "#         forest.append([(row,col)])\n",
    "#         grid[row][col] = 0\n",
    "\n",
    "# edges = []\n",
    "# for row in range(1, H - 1, 2):\n",
    "#     for col in range(2, W - 1, 2):\n",
    "#         edges.append((row,col))\n",
    "# for row in range(2, H - 1, 2):\n",
    "#     for col in range(1, W - 1, 2):\n",
    "#         edges.append((row,col))\n",
    "\n",
    "# shuffle(edges)\n",
    "\n",
    "import numpy as np\n",
    "from numpy.random import shuffle\n",
    "\n",
    "h = 6\n",
    "w = 6\n",
    "H = 2 * h + 3\n",
    "W = 2 * w + 3\n",
    "\n",
    "\n",
    "grid = np.empty((H, W), dtype=np.int8)\n",
    "grid.fill(1)\n",
    "\n",
    "forest = []\n",
    "for row in range(2, H - 2, 2):\n",
    "    for col in range(2, W - 2, 2):\n",
    "        forest.append([(row,col)])\n",
    "        grid[row][col] = 0\n",
    "\n",
    "edges = []\n",
    "for row in range(2, H - 2, 2):\n",
    "    for col in range(3, W - 2, 2):\n",
    "        edges.append((row,col))\n",
    "for row in range(3, H - 2, 2):\n",
    "    for col in range(2, W - 2, 2):\n",
    "        edges.append((row,col))\n",
    "\n",
    "# print(edges)\n",
    "# print(len(edges))\n",
    "# print(len(forest))\n",
    "print(edges)\n",
    "# print(len(edges))\n",
    "# print(len(forest))\n",
    "shuffle(edges)\n",
    "\n",
    "while len(forest) > 1:\n",
    "    ce_row, ce_col = edges[0]\n",
    "    edges = edges[1:]\n",
    "\n",
    "    tree1 = -1\n",
    "    tree2 = -1\n",
    "\n",
    "    if ce_row % 2 == 0:\n",
    "        tree1 = sum(\n",
    "            [\n",
    "                i if (ce_row + 1, ce_col) in j else 0\n",
    "                for i,j in enumerate(forest)\n",
    "            ]\n",
    "        )\n",
    "    print(tree1)"
   ]
  }
 ],
 "metadata": {
  "kernelspec": {
   "display_name": "Python 3",
   "language": "python",
   "name": "python3"
  },
  "language_info": {
   "codemirror_mode": {
    "name": "ipython",
    "version": 3
   },
   "file_extension": ".py",
   "mimetype": "text/x-python",
   "name": "python",
   "nbconvert_exporter": "python",
   "pygments_lexer": "ipython3",
   "version": "3.11.3"
  },
  "orig_nbformat": 4
 },
 "nbformat": 4,
 "nbformat_minor": 2
}
